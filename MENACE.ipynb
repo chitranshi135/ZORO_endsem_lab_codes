{
  "nbformat": 4,
  "nbformat_minor": 0,
  "metadata": {
    "colab": {
      "provenance": [],
      "include_colab_link": true
    },
    "kernelspec": {
      "name": "python3",
      "display_name": "Python 3"
    },
    "language_info": {
      "name": "python"
    }
  },
  "cells": [
    {
      "cell_type": "markdown",
      "metadata": {
        "id": "view-in-github",
        "colab_type": "text"
      },
      "source": [
        "<a href=\"https://colab.research.google.com/github/chitranshi135/ZORO_endsem_lab_codes/blob/main/MENACE.ipynb\" target=\"_parent\"><img src=\"https://colab.research.google.com/assets/colab-badge.svg\" alt=\"Open In Colab\"/></a>"
      ]
    },
    {
      "cell_type": "code",
      "execution_count": null,
      "metadata": {
        "id": "qv7cuXaXSK18"
      },
      "outputs": [],
      "source": [
        "import random\n",
        "from collections import Counter"
      ]
    },
    {
      "cell_type": "code",
      "source": [
        "class Board:\n",
        "    def __init__(self):\n",
        "        self.board = [' ', ' ', ' ', ' ', ' ', ' ', ' ', ' ', ' ']\n",
        "\n",
        "    def __str__(self):\n",
        "        return(\"\\n 0 | 1 | 2     %s | %s | %s\\n\"\n",
        "               \"---+---+---   ---+---+---\\n\"\n",
        "               \" 3 | 4 | 5     %s | %s | %s\\n\"\n",
        "               \"---+---+---   ---+---+---\\n\"\n",
        "               \" 6 | 7 | 8     %s | %s | %s\" % (self.board[0], self.board[1], self.board[2],\n",
        "                                                self.board[3], self.board[4], self.board[5],\n",
        "                                                self.board[6], self.board[7], self.board[8]))\n",
        "\n",
        "    def valid_move(self, move):\n",
        "        try:\n",
        "            move = int(move)\n",
        "        except ValueError:\n",
        "            return False\n",
        "        if 0 <= move <= 8 and self.board[move] == ' ':\n",
        "            return True\n",
        "        return False\n",
        "\n",
        "    def winning(self):\n",
        "        return ((self.board[0] != ' ' and\n",
        "                 ((self.board[0] == self.board[1] == self.board[2]) or\n",
        "                  (self.board[0] == self.board[3] == self.board[6]) or\n",
        "                  (self.board[0] == self.board[4] == self.board[8])))\n",
        "                or (self.board[4] != ' ' and\n",
        "                    ((self.board[1] == self.board[4] == self.board[7]) or\n",
        "                    (self.board[3] == self.board[4] == self.board[5]) or\n",
        "                    (self.board[2] == self.board[4] == self.board[6])))\n",
        "                or (self.board[8] != ' ' and\n",
        "                    ((self.board[2] == self.board[5] == self.board[8]) or\n",
        "                    (self.board[6] == self.board[7] == self.board[8]))))\n",
        "\n",
        "    def draw(self):\n",
        "        return all((x != ' ' for x in self.board))\n",
        "\n",
        "    def play_move(self, position, marker):\n",
        "        self.board[position] = marker\n",
        "\n",
        "    def board_string(self):\n",
        "        return ''.join(self.board)"
      ],
      "metadata": {
        "id": "1IA4DRhEThAC"
      },
      "execution_count": null,
      "outputs": []
    },
    {
      "cell_type": "code",
      "source": [
        "class Menace:\n",
        "    def __init__(self):\n",
        "        self.matchboxes = {}\n",
        "        self.num_win = 0\n",
        "        self.num_draw = 0\n",
        "        self.num_lose = 0\n",
        "\n",
        "    def start_game(self):\n",
        "        self.moves_played = []\n",
        "\n",
        "    def get_move(self, board):\n",
        "        board = board.board_string()\n",
        "        if board not in self.matchboxes:\n",
        "            new_beads = [pos for pos, mark in enumerate(board) if mark == ' ']\n",
        "            self.matchboxes[board] = new_beads * ((len(new_beads) + 2) // 2)\n",
        "\n",
        "        beads = self.matchboxes[board]\n",
        "        if len(beads):\n",
        "            bead = random.choice(beads)\n",
        "            self.moves_played.append((board, bead))\n",
        "        else:\n",
        "            bead = -1\n",
        "        return bead\n",
        "\n",
        "    def win_game(self):\n",
        "        for (board, bead) in self.moves_played:\n",
        "            self.matchboxes[board].extend([bead, bead, bead])\n",
        "        self.num_win += 1\n",
        "\n",
        "    def draw_game(self):\n",
        "        for (board, bead) in self.moves_played:\n",
        "            self.matchboxes[board].append(bead)\n",
        "        self.num_draw += 1\n",
        "\n",
        "    def lose_game(self):\n",
        "        for (board, bead) in self.moves_played:\n",
        "            matchbox = self.matchboxes[board]\n",
        "            del matchbox[matchbox.index(bead)]\n",
        "        self.num_lose += 1\n",
        "\n",
        "    def print_stats(self):\n",
        "        print('Have learnt %d boards' % len(self.matchboxes))\n",
        "        print('W/D/L: %d/%d/%d' % (self.num_win, self.num_draw, self.num_lose))\n",
        "\n",
        "    def print_probability(self, board):\n",
        "        board = board.board_string()\n",
        "        try:\n",
        "            print(\"Stats for this board: \" +\n",
        "                  str(Counter(self.matchboxes[board]).most_common()))\n",
        "        except KeyError:\n",
        "            print(\"Never seen this board before.\")"
      ],
      "metadata": {
        "id": "EddOFj1cTlgQ"
      },
      "execution_count": null,
      "outputs": []
    },
    {
      "cell_type": "code",
      "source": [
        "class Human:\n",
        "    def __init__(self):\n",
        "        pass\n",
        "\n",
        "    def start_game(self):\n",
        "        print(\"Get ready!\")\n",
        "\n",
        "    def get_move(self, board):\n",
        "        while True:\n",
        "            move = input('Make a move: ')\n",
        "            if board.valid_move(move):\n",
        "                break\n",
        "            print(\"Not a valid move\")\n",
        "        return int(move)\n",
        "\n",
        "    def win_game(self):\n",
        "        print(\"You won!\")\n",
        "\n",
        "    def draw_game(self):\n",
        "        print(\"It's a draw.\")\n",
        "\n",
        "    def lose_game(self):\n",
        "        print(\"You lose.\")\n",
        "\n",
        "    def print_probability(self, board):\n",
        "        pass"
      ],
      "metadata": {
        "id": "ih8aj4NzTqLo"
      },
      "execution_count": null,
      "outputs": []
    },
    {
      "cell_type": "code",
      "source": [
        "def play_game(first, second, silent=False):\n",
        "    first.start_game()\n",
        "    second.start_game()\n",
        "    board = Board()\n",
        "\n",
        "    if not silent:\n",
        "        print(\"\\n\\nStarting a new game!\")\n",
        "        print(board)\n",
        "\n",
        "    while True:\n",
        "        if not silent:\n",
        "            first.print_probability(board)\n",
        "        move = first.get_move(board)\n",
        "        if move == -1:\n",
        "            if not silent:\n",
        "                print(\"Player resigns\")\n",
        "            first.lose_game()\n",
        "            second.win_game()\n",
        "            break\n",
        "        board.play_move(move, 'X')\n",
        "        if not silent:\n",
        "            print(board)\n",
        "        if board.winning():\n",
        "            first.win_game()\n",
        "            second.lose_game()\n",
        "            break\n",
        "        if board.draw():\n",
        "            first.draw_game()\n",
        "            second.draw_game()\n",
        "            break\n",
        "\n",
        "        if not silent:\n",
        "            second.print_probability(board)\n",
        "        move = second.get_move(board)\n",
        "        if move == -1:\n",
        "            if not silent:\n",
        "                print(\"Player resigns\")\n",
        "            second.lose_game()\n",
        "            first.win_game()\n",
        "            break\n",
        "        board.play_move(move, 'O')\n",
        "        if not silent:\n",
        "            print(board)\n",
        "        if board.winning():\n",
        "            second.win_game()\n",
        "            first.lose_game()\n",
        "            break"
      ],
      "metadata": {
        "id": "R3_2_BEOTt7H"
      },
      "execution_count": null,
      "outputs": []
    },
    {
      "cell_type": "code",
      "source": [
        "if __name__ == '__main__':\n",
        "    go_first_menace = Menace()\n",
        "    go_second_menace = Menace()\n",
        "    human = Human()\n",
        "\n",
        "    for i in range(1000):\n",
        "        play_game(go_first_menace, go_second_menace, silent=True)\n",
        "\n",
        "    go_first_menace.print_stats()\n",
        "    go_second_menace.print_stats()\n",
        "\n",
        "    play_game(go_first_menace, human)\n",
        "    play_game(human, go_second_menace)"
      ],
      "metadata": {
        "id": "NBbTtTGuTxex"
      },
      "execution_count": null,
      "outputs": []
    }
  ]
}