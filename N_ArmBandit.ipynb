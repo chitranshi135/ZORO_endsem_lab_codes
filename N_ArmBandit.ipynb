{
  "nbformat": 4,
  "nbformat_minor": 0,
  "metadata": {
    "colab": {
      "provenance": [],
      "include_colab_link": true
    },
    "kernelspec": {
      "name": "python3",
      "display_name": "Python 3"
    },
    "language_info": {
      "name": "python"
    }
  },
  "cells": [
    {
      "cell_type": "markdown",
      "metadata": {
        "id": "view-in-github",
        "colab_type": "text"
      },
      "source": [
        "<a href=\"https://colab.research.google.com/github/chitranshi135/ZORO_endsem_lab_codes/blob/main/N_ArmBandit.ipynb\" target=\"_parent\"><img src=\"https://colab.research.google.com/assets/colab-badge.svg\" alt=\"Open In Colab\"/></a>"
      ]
    },
    {
      "cell_type": "markdown",
      "source": [
        "**N-Arm Bandit with Non-Stationary Rewards**\n",
        "\n",
        "\n",
        "\n",
        "\n",
        "\n"
      ],
      "metadata": {
        "id": "xrth4JsnD9nA"
      }
    },
    {
      "cell_type": "code",
      "execution_count": null,
      "metadata": {
        "id": "ls8C1RxOi2Gy"
      },
      "outputs": [],
      "source": [
        "import random\n",
        "import matplotlib.pyplot as plt\n",
        "random.seed(0)\n",
        "# --- Bandit ---\n",
        "class Bandit(object):\n",
        "  def __init__(self, N):\n",
        "    # N = number of arms\n",
        "    self.N = N\n",
        "    expRewards = [7]*N\n",
        "    self.expRewards = expRewards\n",
        "  def actions(self):\n",
        "    result = list(range(0,self.N))\n",
        "    return result\n",
        "  def reward(self, action):\n",
        "    reward = []\n",
        "    #incrementing rewards at each time step\n",
        "    for i in range(self.N):\n",
        "      self.expRewards[i] += random.gauss(0,0.01)\n",
        "\n",
        "    reward = self.expRewards[action]\n",
        "    return reward\n"
      ]
    },
    {
      "cell_type": "code",
      "source": [
        "def eGreedy_modified(myBandit, epsilon, max_iteration, alpha):\n",
        "  # Initialization \n",
        "  Q = [0]*myBandit.N \n",
        "  count = [0]*myBandit.N\n",
        "  epsilon = epsilon\n",
        "  r = 0\n",
        "  R = []\n",
        "  R_avg = [0]*1\n",
        "  # Incremental Implementation\n",
        "  for iter in range(1,max_iteration+1):\n",
        "    if random.random() > epsilon:\n",
        "      action = Q.index(max(Q)) # Exploit/ Greed\n",
        "    else:\n",
        "      action = random.choice(myBandit.actions()) # Explore\n",
        "    r = myBandit.reward(action)\n",
        "    R.append(r)\n",
        "    count[action] = count[action]+1\n",
        "    Q[action] = Q[action]+ alpha*(r - Q[action])\n",
        "    R_avg.append(R_avg[iter-1] + (r-R_avg[iter-1])/iter)\n",
        "    if iter == max_iteration:\n",
        "      actionTaken = [\"\"]*myBandit.N\n",
        "      for i in range(1,myBandit.N+1) :\n",
        "        print(\"Final Counts for move \",i, \" : \", count[i-1])\n",
        "        actionTaken[i-1] = \"{}\".format(i)\n",
        "\n",
        "      # Create bar plot\n",
        "      plt.bar(actionTaken, count)\n",
        "\n",
        "      # Set plot title and axis labels\n",
        "      plt.title(\"Number of times each action taken\")\n",
        "      plt.xlabel(\"Action\")\n",
        "      plt.ylabel(\"Count\")\n",
        "\n",
        "      # Show plot\n",
        "      plt.show()\n",
        "\n",
        "  return Q, R_avg, R"
      ],
      "metadata": {
        "id": "ZMkK93BuktIM"
      },
      "execution_count": null,
      "outputs": []
    },
    {
      "cell_type": "code",
      "source": [
        "random.seed(3)\n",
        "myBandit = Bandit(N=10)\n",
        "Q, R_avg, R = eGreedy_modified(myBandit, 0.4, 10000, 0.01)"
      ],
      "metadata": {
        "colab": {
          "base_uri": "https://localhost:8080/",
          "height": 228
        },
        "id": "8w0Y3pKw7IBy",
        "outputId": "3df8f1d7-71b2-478f-aaff-d47260e67713"
      },
      "execution_count": null,
      "outputs": [
        {
          "output_type": "stream",
          "name": "stdout",
          "text": [
            "Final Counts for move  1  :  397\n",
            "Final Counts for move  2  :  390\n",
            "Final Counts for move  3  :  3308\n",
            "Final Counts for move  4  :  440\n",
            "Final Counts for move  5  :  407\n",
            "Final Counts for move  6  :  418\n",
            "Final Counts for move  7  :  400\n",
            "Final Counts for move  8  :  392\n",
            "Final Counts for move  9  :  3464\n",
            "Final Counts for move  10  :  384\n"
          ]
        },
        {
          "output_type": "display_data",
          "data": {
            "text/plain": [
              "<Figure size 432x288 with 1 Axes>"
            ],
            "image/png": "[encoded data removed]"
          },
          "metadata": {
            "needs_background": "light"
          }
        }
      ]
    },
    {
      "cell_type": "code",
      "source": [
        "print(\"******************        RESULTS FOR BANDIT A         *************************\")\n",
        "\n",
        "for i in range(1,myBandit.N+1) :\n",
        "  print(\"Observed Average Reward for action \",i, \" : \", Q[i-1])\n",
        "  print(\"Actual Reward for action           \",i, \" : \", myBandit.expRewards[i-1])\n",
        "  print(\"----------------------------------------------------------------------------------\")\n",
        "\n",
        "print(\"**********************************************************************************\")"
      ],
      "metadata": {
        "colab": {
          "base_uri": "https://localhost:8080/"
        },
        "id": "Fkov3llE7WmN",
        "outputId": "d0bc10ad-f49c-4f4c-c5a3-ec0890984172"
      },
      "execution_count": null,
      "outputs": [
        {
          "output_type": "stream",
          "name": "stdout",
          "text": [
            "******************        RESULTS FOR BANDIT A         *************************\n",
            "Observed Average Reward for action  1  :  5.81040083845304\n",
            "Actual Reward for action            1  :  5.690767978995215\n",
            "----------------------------------------------------------------------------------\n",
            "Observed Average Reward for action  2  :  6.916630817859252\n",
            "Actual Reward for action            2  :  7.306311928763355\n",
            "----------------------------------------------------------------------------------\n",
            "Observed Average Reward for action  3  :  8.275478498733687\n",
            "Actual Reward for action            3  :  8.351367011110957\n",
            "----------------------------------------------------------------------------------\n",
            "Observed Average Reward for action  4  :  7.340156741727628\n",
            "Actual Reward for action            4  :  7.230258416121292\n",
            "----------------------------------------------------------------------------------\n",
            "Observed Average Reward for action  5  :  6.669543220379781\n",
            "Actual Reward for action            5  :  6.801700383117448\n",
            "----------------------------------------------------------------------------------\n",
            "Observed Average Reward for action  6  :  5.043676827537927\n",
            "Actual Reward for action            6  :  4.843410432504308\n",
            "----------------------------------------------------------------------------------\n",
            "Observed Average Reward for action  7  :  5.001514540982917\n",
            "Actual Reward for action            7  :  4.81477745870784\n",
            "----------------------------------------------------------------------------------\n",
            "Observed Average Reward for action  8  :  6.278753574285109\n",
            "Actual Reward for action            8  :  6.602368710900948\n",
            "----------------------------------------------------------------------------------\n",
            "Observed Average Reward for action  9  :  6.415957318835697\n",
            "Actual Reward for action            9  :  5.793300924253861\n",
            "----------------------------------------------------------------------------------\n",
            "Observed Average Reward for action  10  :  6.900065418259084\n",
            "Actual Reward for action            10  :  7.259884043237952\n",
            "----------------------------------------------------------------------------------\n",
            "**********************************************************************************\n"
          ]
        }
      ]
    },
    {
      "cell_type": "code",
      "source": [
        "import matplotlib.pyplot as plt\n",
        "# display the images\n",
        "fig, (ax1, ax2) = plt.subplots(1, 2, figsize=(15, 5))\n",
        "ax1.plot(R_avg)\n",
        "ax1.title.set_text(\"Average rewards V/s Iteration\")\n",
        "ax1.set_xlabel(\"Iteration\")\n",
        "ax1.set_ylabel(\"Average Reward\")\n",
        "ax2.plot(R)\n",
        "ax2.title.set_text(\"Reward per iteration\")\n",
        "ax2.set_xlabel(\"Iteration\")\n",
        "ax2.set_ylabel(\"Reward\")\n",
        "fig.suptitle(\"Modified Epsilon Greedy Policy\")"
      ],
      "metadata": {
        "colab": {
          "base_uri": "https://localhost:8080/",
          "height": 158
        },
        "id": "GHhXeJ7a8Ti1",
        "outputId": "2317a97b-1736-4b8a-a8aa-c25d55d3a7ef"
      },
      "execution_count": null,
      "outputs": [
        {
          "output_type": "execute_result",
          "data": {
            "text/plain": [
              "Text(0.5, 0.98, 'Modified Epsilon Greedy Policy')"
            ]
          },
          "metadata": {},
          "execution_count": 5
        },
        {
          "output_type": "display_data",
          "data": {
            "text/plain": [
              "<Figure size 1080x360 with 2 Axes>"
            ],
            "image/png": "[encoded data removed]"
          },
          "metadata": {
            "needs_background": "light"
          }
        }
      ]
    }
  ]
}